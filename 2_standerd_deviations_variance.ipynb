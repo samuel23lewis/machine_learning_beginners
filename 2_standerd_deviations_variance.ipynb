{
 "cells": [
  {
   "cell_type": "code",
   "execution_count": 1,
   "metadata": {},
   "outputs": [
    {
     "name": "stdout",
     "output_type": "stream",
     "text": [
      "0.9035079029052513\n"
     ]
    }
   ],
   "source": [
    "import numpy as np\n",
    "\n",
    "speed=[86,87,88,86,87,85,86]\n",
    "\n",
    "#this program is to find the standard deviation of the following dataset given above\n",
    "x=np.std(speed)\n",
    "print(x)\n"
   ]
  },
  {
   "cell_type": "code",
   "execution_count": 2,
   "metadata": {},
   "outputs": [
    {
     "name": "stdout",
     "output_type": "stream",
     "text": [
      "0.8163265306122449\n"
     ]
    }
   ],
   "source": [
    "#this program is to find the varience of the following dataset given above\n",
    "#variance is obtained by taking the square root of standard deviation\n",
    "\n",
    "x=np.var(speed)\n",
    "print(x) "
   ]
  },
  {
   "cell_type": "code",
   "execution_count": 1,
   "metadata": {},
   "outputs": [
    {
     "name": "stdout",
     "output_type": "stream",
     "text": [
      "43.0\n",
      "61.0\n"
     ]
    }
   ],
   "source": [
    "#this program is to find the percentile of the following data given below\n",
    "\n",
    "import numpy as np\n",
    "\n",
    "ages = [5,31,43,48,50,41,7,11,15,39,80,82,32,2,8,6,25,36,27,61,31]\n",
    "\n",
    "#the percentile is a function defined by the library\n",
    "#it has 2 parameters the ages is the dataset and other for the perentile of the number to be found\n",
    "x=np.percentile(ages,75)\n",
    "y=np.percentile(ages,90)\n",
    "print(x)\n",
    "print(y)\n"
   ]
  }
 ],
 "metadata": {
  "kernelspec": {
   "display_name": "Python 3",
   "language": "python",
   "name": "python3"
  },
  "language_info": {
   "codemirror_mode": {
    "name": "ipython",
    "version": 3
   },
   "file_extension": ".py",
   "mimetype": "text/x-python",
   "name": "python",
   "nbconvert_exporter": "python",
   "pygments_lexer": "ipython3",
   "version": "3.12.0"
  }
 },
 "nbformat": 4,
 "nbformat_minor": 2
}
